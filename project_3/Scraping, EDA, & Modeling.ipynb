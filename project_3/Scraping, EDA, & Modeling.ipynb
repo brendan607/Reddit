{
 "cells": [
  {
   "cell_type": "markdown",
   "metadata": {},
   "source": [
    "## Scraping"
   ]
  },
  {
   "cell_type": "markdown",
   "metadata": {},
   "source": [
    "### Pushshift Imports"
   ]
  },
  {
   "cell_type": "code",
   "execution_count": 343,
   "metadata": {},
   "outputs": [],
   "source": [
    "import requests\n",
    "import pandas as pd\n",
    "import time\n",
    "import numpy as np\n",
    "\n",
    "import matplotlib.pyplot as plt\n",
    "import seaborn as sns\n",
    "%matplotlib inline\n",
    "\n",
    "\n",
    "from nltk.tokenize import RegexpTokenizer\n",
    "from nltk.stem import WordNetLemmatizer\n",
    "from nltk.stem.porter import PorterStemmer\n",
    "from nltk.corpus import stopwords\n",
    "import regex as re\n",
    "\n",
    "from sklearn.model_selection import train_test_split, GridSearchCV\n",
    "from sklearn.pipeline import Pipeline, FeatureUnion\n",
    "from sklearn.feature_extraction.text import CountVectorizer, TfidfVectorizer\n",
    "from sklearn.linear_model import LogisticRegression\n",
    "from sklearn.preprocessing import StandardScaler, FunctionTransformer\n",
    "from sklearn.ensemble import RandomForestClassifier\n",
    "\n",
    "from nltk.sentiment.vader import SentimentIntensityAnalyzer"
   ]
  },
  {
   "cell_type": "markdown",
   "metadata": {},
   "source": [
    "### Defining a Function to Scrape Reddit"
   ]
  },
  {
   "cell_type": "markdown",
   "metadata": {},
   "source": [
    "The function uses pushshift.io API and scrapes the metadata of the 10,000 most recent post from now for the specified subreddit"
   ]
  },
  {
   "cell_type": "code",
   "execution_count": 5,
   "metadata": {},
   "outputs": [],
   "source": [
    "#fetches 10,000 submissions starting NOW, going backwards\n",
    "\n",
    "def fetch_data(subreddit, size, samples, after = None, before = round(time.time())):\n",
    "    \n",
    "    newest_timestamp =[]\n",
    "    all_posts = []\n",
    "    \n",
    "       \n",
    "    for x in range(samples):\n",
    "        base_url = 'https://api.pushshift.io/reddit/submission/search'\n",
    "        \n",
    "        params = {\n",
    "        \"subreddit\" : subreddit,\n",
    "        \"size\" : size,\n",
    "        'after': after,\n",
    "        'before': before\n",
    "            }\n",
    "        res = requests.get(base_url,params)\n",
    "        \n",
    "        data = res.json()['data']\n",
    "        \n",
    "        if res.status_code == 200:\n",
    "            oldest_timestamp = data[-1]['created_utc']\n",
    "            all_posts.extend(data)\n",
    "            before = oldest_timestamp\n",
    "        \n",
    "            print(f'reddit was scraped {x+1} time(s).')\n",
    "            time.sleep(3)\n",
    "            \n",
    "        else:\n",
    "            print(f'reddit was scraped {x+1} time(s), then ran into an error.')\n",
    "            \n",
    "        \n",
    "    return pd.DataFrame(all_posts)\n",
    "           "
   ]
  },
  {
   "cell_type": "code",
   "execution_count": 6,
   "metadata": {},
   "outputs": [
    {
     "name": "stdout",
     "output_type": "stream",
     "text": [
      "reddit was scraped 1 time(s).\n",
      "reddit was scraped 2 time(s).\n",
      "reddit was scraped 3 time(s).\n",
      "reddit was scraped 4 time(s).\n",
      "reddit was scraped 5 time(s).\n",
      "reddit was scraped 6 time(s).\n",
      "reddit was scraped 7 time(s).\n",
      "reddit was scraped 8 time(s).\n",
      "reddit was scraped 9 time(s).\n",
      "reddit was scraped 10 time(s).\n"
     ]
    }
   ],
   "source": [
    "worldnews_df = fetch_data('worldnews', 1000, 10)"
   ]
  },
  {
   "cell_type": "markdown",
   "metadata": {},
   "source": [
    "Returning the timestamp of latest submission scraped to remember what time the data was pulled."
   ]
  },
  {
   "cell_type": "code",
   "execution_count": 7,
   "metadata": {},
   "outputs": [
    {
     "data": {
      "text/plain": [
       "1580348898"
      ]
     },
     "execution_count": 7,
     "metadata": {},
     "output_type": "execute_result"
    }
   ],
   "source": [
    "worldnews_df['created_utc'][0]"
   ]
  },
  {
   "cell_type": "markdown",
   "metadata": {},
   "source": [
    "Taking a look at all the categories(columns) you get information about when scraping reddit with the api."
   ]
  },
  {
   "cell_type": "code",
   "execution_count": 8,
   "metadata": {},
   "outputs": [
    {
     "data": {
      "text/plain": [
       "Index(['all_awardings', 'allow_live_comments', 'author',\n",
       "       'author_flair_css_class', 'author_flair_richtext', 'author_flair_text',\n",
       "       'author_flair_type', 'author_fullname', 'author_patreon_flair',\n",
       "       'author_premium', 'awarders', 'can_mod_post', 'contest_mode',\n",
       "       'created_utc', 'domain', 'full_link', 'gildings', 'id',\n",
       "       'is_crosspostable', 'is_meta', 'is_original_content',\n",
       "       'is_reddit_media_domain', 'is_robot_indexable', 'is_self', 'is_video',\n",
       "       'link_flair_background_color', 'link_flair_richtext',\n",
       "       'link_flair_text_color', 'link_flair_type', 'locked', 'media_only',\n",
       "       'no_follow', 'num_comments', 'num_crossposts', 'over_18',\n",
       "       'parent_whitelist_status', 'permalink', 'pinned', 'post_hint',\n",
       "       'preview', 'pwls', 'retrieved_on', 'score', 'selftext', 'send_replies',\n",
       "       'spoiler', 'stickied', 'subreddit', 'subreddit_id',\n",
       "       'subreddit_subscribers', 'subreddit_type', 'thumbnail',\n",
       "       'thumbnail_height', 'thumbnail_width', 'title', 'total_awards_received',\n",
       "       'url', 'whitelist_status', 'wls', 'removed_by_category', 'media',\n",
       "       'media_embed', 'secure_media', 'secure_media_embed',\n",
       "       'link_flair_css_class', 'link_flair_text', 'crosspost_parent',\n",
       "       'crosspost_parent_list', 'author_flair_background_color',\n",
       "       'author_flair_text_color', 'link_flair_template_id', 'gilded',\n",
       "       'author_cakeday', 'steward_reports'],\n",
       "      dtype='object')"
      ]
     },
     "execution_count": 8,
     "metadata": {},
     "output_type": "execute_result"
    }
   ],
   "source": [
    "worldnews_df.columns"
   ]
  },
  {
   "cell_type": "code",
   "execution_count": 9,
   "metadata": {},
   "outputs": [],
   "source": [
    "worldnews_df['merged'] = worldnews_df['title']+ ' '+ worldnews_df['selftext']\n",
    "df1 = worldnews_df[['merged', 'subreddit']]"
   ]
  },
  {
   "cell_type": "code",
   "execution_count": 10,
   "metadata": {},
   "outputs": [
    {
     "data": {
      "text/plain": [
       "(10000, 2)"
      ]
     },
     "execution_count": 10,
     "metadata": {},
     "output_type": "execute_result"
    }
   ],
   "source": [
    "df1.shape"
   ]
  },
  {
   "cell_type": "code",
   "execution_count": 11,
   "metadata": {},
   "outputs": [
    {
     "name": "stdout",
     "output_type": "stream",
     "text": [
      "reddit was scraped 1 time(s).\n",
      "reddit was scraped 2 time(s).\n",
      "reddit was scraped 3 time(s).\n",
      "reddit was scraped 4 time(s).\n",
      "reddit was scraped 5 time(s).\n",
      "reddit was scraped 6 time(s).\n",
      "reddit was scraped 7 time(s).\n",
      "reddit was scraped 8 time(s).\n",
      "reddit was scraped 9 time(s).\n",
      "reddit was scraped 10 time(s).\n"
     ]
    }
   ],
   "source": [
    "news_df = fetch_data('news', 1000, 10)"
   ]
  },
  {
   "cell_type": "code",
   "execution_count": 12,
   "metadata": {},
   "outputs": [
    {
     "data": {
      "text/plain": [
       "1580349028"
      ]
     },
     "execution_count": 12,
     "metadata": {},
     "output_type": "execute_result"
    }
   ],
   "source": [
    "news_df['created_utc'][0]"
   ]
  },
  {
   "cell_type": "markdown",
   "metadata": {},
   "source": [
    "Merging title and selftext, the text data from reddit that we will be exploring."
   ]
  },
  {
   "cell_type": "code",
   "execution_count": 13,
   "metadata": {},
   "outputs": [],
   "source": [
    "news_df['merged'] = news_df['title']+ ' '+ news_df['selftext']\n",
    "df2 = news_df[['merged', 'subreddit']]\n"
   ]
  },
  {
   "cell_type": "markdown",
   "metadata": {},
   "source": [
    "___"
   ]
  },
  {
   "cell_type": "markdown",
   "metadata": {},
   "source": [
    "**Concating scraped data from 2 subreddits into 1 final dataframe.**"
   ]
  },
  {
   "cell_type": "code",
   "execution_count": 248,
   "metadata": {},
   "outputs": [
    {
     "data": {
      "text/html": [
       "<div>\n",
       "<style scoped>\n",
       "    .dataframe tbody tr th:only-of-type {\n",
       "        vertical-align: middle;\n",
       "    }\n",
       "\n",
       "    .dataframe tbody tr th {\n",
       "        vertical-align: top;\n",
       "    }\n",
       "\n",
       "    .dataframe thead th {\n",
       "        text-align: right;\n",
       "    }\n",
       "</style>\n",
       "<table border=\"1\" class=\"dataframe\">\n",
       "  <thead>\n",
       "    <tr style=\"text-align: right;\">\n",
       "      <th></th>\n",
       "      <th>merged</th>\n",
       "      <th>subreddit</th>\n",
       "    </tr>\n",
       "  </thead>\n",
       "  <tbody>\n",
       "    <tr>\n",
       "      <th>0</th>\n",
       "      <td>Lungs damaged by smoking can 'magically' heal ...</td>\n",
       "      <td>worldnews</td>\n",
       "    </tr>\n",
       "    <tr>\n",
       "      <th>1</th>\n",
       "      <td>Backstory: Inside the destroyed Fukushima plan...</td>\n",
       "      <td>worldnews</td>\n",
       "    </tr>\n",
       "    <tr>\n",
       "      <th>2</th>\n",
       "      <td>DNA tests for kids 'stolen by orphanage'</td>\n",
       "      <td>worldnews</td>\n",
       "    </tr>\n",
       "    <tr>\n",
       "      <th>3</th>\n",
       "      <td>Brazil rainstorms: Death toll climbs to 44</td>\n",
       "      <td>worldnews</td>\n",
       "    </tr>\n",
       "    <tr>\n",
       "      <th>4</th>\n",
       "      <td>A postal worker rented a storage unit to hide ...</td>\n",
       "      <td>worldnews</td>\n",
       "    </tr>\n",
       "  </tbody>\n",
       "</table>\n",
       "</div>"
      ],
      "text/plain": [
       "                                              merged  subreddit\n",
       "0  Lungs damaged by smoking can 'magically' heal ...  worldnews\n",
       "1  Backstory: Inside the destroyed Fukushima plan...  worldnews\n",
       "2          DNA tests for kids 'stolen by orphanage'   worldnews\n",
       "3        Brazil rainstorms: Death toll climbs to 44   worldnews\n",
       "4  A postal worker rented a storage unit to hide ...  worldnews"
      ]
     },
     "execution_count": 248,
     "metadata": {},
     "output_type": "execute_result"
    }
   ],
   "source": [
    "df = pd.concat([df1, df2])\n",
    "df.head()"
   ]
  },
  {
   "cell_type": "markdown",
   "metadata": {},
   "source": [
    "### Mapping each subreddit into 1 or 0\n",
    "Subreddit 'worldnews' will be our reference = 1 "
   ]
  },
  {
   "cell_type": "code",
   "execution_count": 249,
   "metadata": {},
   "outputs": [],
   "source": [
    "# 1 = worldnews, 0 = news\n",
    "df['subreddit'] = df['subreddit'].map({'worldnews': 1, 'news' : 0})\n",
    "df.to_csv('./df.csv')"
   ]
  },
  {
   "cell_type": "code",
   "execution_count": 250,
   "metadata": {},
   "outputs": [
    {
     "data": {
      "text/html": [
       "<div>\n",
       "<style scoped>\n",
       "    .dataframe tbody tr th:only-of-type {\n",
       "        vertical-align: middle;\n",
       "    }\n",
       "\n",
       "    .dataframe tbody tr th {\n",
       "        vertical-align: top;\n",
       "    }\n",
       "\n",
       "    .dataframe thead th {\n",
       "        text-align: right;\n",
       "    }\n",
       "</style>\n",
       "<table border=\"1\" class=\"dataframe\">\n",
       "  <thead>\n",
       "    <tr style=\"text-align: right;\">\n",
       "      <th></th>\n",
       "      <th>merged</th>\n",
       "      <th>subreddit</th>\n",
       "    </tr>\n",
       "  </thead>\n",
       "  <tbody>\n",
       "    <tr>\n",
       "      <th>0</th>\n",
       "      <td>Lungs damaged by smoking can 'magically' heal ...</td>\n",
       "      <td>1</td>\n",
       "    </tr>\n",
       "    <tr>\n",
       "      <th>1</th>\n",
       "      <td>Backstory: Inside the destroyed Fukushima plan...</td>\n",
       "      <td>1</td>\n",
       "    </tr>\n",
       "    <tr>\n",
       "      <th>2</th>\n",
       "      <td>DNA tests for kids 'stolen by orphanage'</td>\n",
       "      <td>1</td>\n",
       "    </tr>\n",
       "    <tr>\n",
       "      <th>3</th>\n",
       "      <td>Brazil rainstorms: Death toll climbs to 44</td>\n",
       "      <td>1</td>\n",
       "    </tr>\n",
       "    <tr>\n",
       "      <th>4</th>\n",
       "      <td>A postal worker rented a storage unit to hide ...</td>\n",
       "      <td>1</td>\n",
       "    </tr>\n",
       "  </tbody>\n",
       "</table>\n",
       "</div>"
      ],
      "text/plain": [
       "                                              merged  subreddit\n",
       "0  Lungs damaged by smoking can 'magically' heal ...          1\n",
       "1  Backstory: Inside the destroyed Fukushima plan...          1\n",
       "2          DNA tests for kids 'stolen by orphanage'           1\n",
       "3        Brazil rainstorms: Death toll climbs to 44           1\n",
       "4  A postal worker rented a storage unit to hide ...          1"
      ]
     },
     "execution_count": 250,
     "metadata": {},
     "output_type": "execute_result"
    }
   ],
   "source": [
    "df.head()"
   ]
  },
  {
   "cell_type": "markdown",
   "metadata": {},
   "source": [
    "## EDA / Pre-Processinng"
   ]
  },
  {
   "cell_type": "markdown",
   "metadata": {},
   "source": [
    "**Defining a function that does pre-process RegEx cleaning**  \n",
    "The function only takes english letters (while filtering out foreign languages), takes our urls, converts words to lowercase, and lemmatizes them."
   ]
  },
  {
   "cell_type": "code",
   "execution_count": 252,
   "metadata": {},
   "outputs": [],
   "source": [
    "def clean_text(text):\n",
    "    \n",
    "    english_letters_only = re.sub(\"[^a-zA-Z]\", \" \", text)\n",
    "    \n",
    "    no_urls = re.sub('http[s]?:\\/\\/[^\\s]*', ' ', english_letters_only)\n",
    "    \n",
    "    lowercase = \" \".join(no_urls.lower().split())\n",
    "    \n",
    "    lemmatizer = WordNetLemmatizer()\n",
    "    lemmatized =\" \".join([lemmatizer.lemmatize(word) for word in lowercase.split(' ')])\n",
    "    \n",
    "    \n",
    "    return lemmatized"
   ]
  },
  {
   "cell_type": "code",
   "execution_count": 253,
   "metadata": {},
   "outputs": [],
   "source": [
    "clean_column = []\n",
    "for submission in df['merged']:\n",
    "    clean_column.append(clean_text(submission))\n",
    "    "
   ]
  },
  {
   "cell_type": "code",
   "execution_count": 254,
   "metadata": {},
   "outputs": [],
   "source": [
    "df['merged'] = clean_column"
   ]
  },
  {
   "cell_type": "markdown",
   "metadata": {},
   "source": [
    "### Feature Engineering"
   ]
  },
  {
   "cell_type": "markdown",
   "metadata": {},
   "source": [
    "Using the SentimentIntensityAnalyzer, add a feature that analyzes sentiment between -1 and 1 of each text."
   ]
  },
  {
   "cell_type": "code",
   "execution_count": 255,
   "metadata": {},
   "outputs": [],
   "source": [
    "sia = SentimentIntensityAnalyzer()\n",
    "\n",
    "def get_compound_sentiment(post):\n",
    "    return sia.polarity_scores(post)['compound']\n",
    "\n",
    "df['sentiment'] = df['merged'].apply(get_compound_sentiment)"
   ]
  },
  {
   "cell_type": "code",
   "execution_count": 476,
   "metadata": {},
   "outputs": [
    {
     "data": {
      "text/html": [
       "<div>\n",
       "<style scoped>\n",
       "    .dataframe tbody tr th:only-of-type {\n",
       "        vertical-align: middle;\n",
       "    }\n",
       "\n",
       "    .dataframe tbody tr th {\n",
       "        vertical-align: top;\n",
       "    }\n",
       "\n",
       "    .dataframe thead th {\n",
       "        text-align: right;\n",
       "    }\n",
       "</style>\n",
       "<table border=\"1\" class=\"dataframe\">\n",
       "  <thead>\n",
       "    <tr style=\"text-align: right;\">\n",
       "      <th></th>\n",
       "      <th>merged</th>\n",
       "      <th>subreddit</th>\n",
       "      <th>sentiment</th>\n",
       "      <th>word_count</th>\n",
       "    </tr>\n",
       "  </thead>\n",
       "  <tbody>\n",
       "    <tr>\n",
       "      <th>0</th>\n",
       "      <td>lung damaged by smoking can magical  heal stu ...</td>\n",
       "      <td>1</td>\n",
       "      <td>-0.4767</td>\n",
       "      <td>22</td>\n",
       "    </tr>\n",
       "    <tr>\n",
       "      <th>1</th>\n",
       "      <td>backstory inside the destroyed fukushima plant...</td>\n",
       "      <td>1</td>\n",
       "      <td>-0.6486</td>\n",
       "      <td>10</td>\n",
       "    </tr>\n",
       "    <tr>\n",
       "      <th>2</th>\n",
       "      <td>dna test for kid stolen by orphanage</td>\n",
       "      <td>1</td>\n",
       "      <td>-0.4939</td>\n",
       "      <td>7</td>\n",
       "    </tr>\n",
       "    <tr>\n",
       "      <th>3</th>\n",
       "      <td>brazil rainstorm death toll climb to</td>\n",
       "      <td>1</td>\n",
       "      <td>-0.5994</td>\n",
       "      <td>6</td>\n",
       "    </tr>\n",
       "    <tr>\n",
       "      <th>4</th>\n",
       "      <td>a postal worker rented a storage unit to hide ...</td>\n",
       "      <td>1</td>\n",
       "      <td>-0.3818</td>\n",
       "      <td>20</td>\n",
       "    </tr>\n",
       "  </tbody>\n",
       "</table>\n",
       "</div>"
      ],
      "text/plain": [
       "                                              merged  subreddit  sentiment  \\\n",
       "0  lung damaged by smoking can magical  heal stu ...          1    -0.4767   \n",
       "1  backstory inside the destroyed fukushima plant...          1    -0.6486   \n",
       "2               dna test for kid stolen by orphanage          1    -0.4939   \n",
       "3               brazil rainstorm death toll climb to          1    -0.5994   \n",
       "4  a postal worker rented a storage unit to hide ...          1    -0.3818   \n",
       "\n",
       "   word_count  \n",
       "0          22  \n",
       "1          10  \n",
       "2           7  \n",
       "3           6  \n",
       "4          20  "
      ]
     },
     "execution_count": 476,
     "metadata": {},
     "output_type": "execute_result"
    }
   ],
   "source": [
    "df['word_count'] = df.merged.map(lambda x: len(x.split()))\n",
    "df.head()"
   ]
  },
  {
   "cell_type": "code",
   "execution_count": 287,
   "metadata": {},
   "outputs": [],
   "source": [
    "df['merged'] = df['merged'].map(lambda x: re.sub('(news|com|www|https|bit|ly)[s]?', ' ', x,  flags=re.I))"
   ]
  },
  {
   "cell_type": "markdown",
   "metadata": {},
   "source": [
    "**Looking at the average word count by class:**"
   ]
  },
  {
   "cell_type": "code",
   "execution_count": 288,
   "metadata": {},
   "outputs": [
    {
     "data": {
      "text/plain": [
       "subreddit\n",
       "0    11.0402\n",
       "1    13.0581\n",
       "Name: word count, dtype: float64"
      ]
     },
     "execution_count": 288,
     "metadata": {},
     "output_type": "execute_result"
    }
   ],
   "source": [
    "df.groupby('subreddit')['word count'].mean()"
   ]
  },
  {
   "cell_type": "code",
   "execution_count": 289,
   "metadata": {},
   "outputs": [],
   "source": [
    "df.to_csv('./clean_df.csv', index = False)"
   ]
  },
  {
   "cell_type": "markdown",
   "metadata": {},
   "source": [
    "## EDA"
   ]
  },
  {
   "cell_type": "markdown",
   "metadata": {},
   "source": [
    "Taking a look at some distributions organized by class"
   ]
  },
  {
   "cell_type": "code",
   "execution_count": 466,
   "metadata": {},
   "outputs": [
    {
     "data": {
      "image/png": "[encoded data removed]",
      "text/plain": [
       "<Figure size 432x288 with 1 Axes>"
      ]
     },
     "metadata": {
      "needs_background": "light"
     },
     "output_type": "display_data"
    }
   ],
   "source": [
    "df[df['word_count'] <= 60].groupby('subreddit')['word_count'].plot(kind = 'hist', alpha = 0.7);\n",
    "plt.legend(['news', 'worldnews']);\n",
    "plt.xlabel('word count');\n",
    "plt.savefig(\"./pics/word count_dist.png\")"
   ]
  },
  {
   "cell_type": "code",
   "execution_count": 291,
   "metadata": {},
   "outputs": [
    {
     "data": {
      "text/html": [
       "<div>\n",
       "<style scoped>\n",
       "    .dataframe tbody tr th:only-of-type {\n",
       "        vertical-align: middle;\n",
       "    }\n",
       "\n",
       "    .dataframe tbody tr th {\n",
       "        vertical-align: top;\n",
       "    }\n",
       "\n",
       "    .dataframe thead th {\n",
       "        text-align: right;\n",
       "    }\n",
       "</style>\n",
       "<table border=\"1\" class=\"dataframe\">\n",
       "  <thead>\n",
       "    <tr style=\"text-align: right;\">\n",
       "      <th></th>\n",
       "      <th>count</th>\n",
       "      <th>mean</th>\n",
       "      <th>std</th>\n",
       "      <th>min</th>\n",
       "      <th>25%</th>\n",
       "      <th>50%</th>\n",
       "      <th>75%</th>\n",
       "      <th>max</th>\n",
       "    </tr>\n",
       "    <tr>\n",
       "      <th>subreddit</th>\n",
       "      <th></th>\n",
       "      <th></th>\n",
       "      <th></th>\n",
       "      <th></th>\n",
       "      <th></th>\n",
       "      <th></th>\n",
       "      <th></th>\n",
       "      <th></th>\n",
       "    </tr>\n",
       "  </thead>\n",
       "  <tbody>\n",
       "    <tr>\n",
       "      <th>0</th>\n",
       "      <td>10000.0</td>\n",
       "      <td>-0.095207</td>\n",
       "      <td>0.424649</td>\n",
       "      <td>-0.9744</td>\n",
       "      <td>-0.4019</td>\n",
       "      <td>0.0</td>\n",
       "      <td>0.0</td>\n",
       "      <td>0.9750</td>\n",
       "    </tr>\n",
       "    <tr>\n",
       "      <th>1</th>\n",
       "      <td>10000.0</td>\n",
       "      <td>-0.133883</td>\n",
       "      <td>0.406799</td>\n",
       "      <td>-0.9790</td>\n",
       "      <td>-0.4767</td>\n",
       "      <td>0.0</td>\n",
       "      <td>0.0</td>\n",
       "      <td>0.9607</td>\n",
       "    </tr>\n",
       "  </tbody>\n",
       "</table>\n",
       "</div>"
      ],
      "text/plain": [
       "             count      mean       std     min     25%  50%  75%     max\n",
       "subreddit                                                               \n",
       "0          10000.0 -0.095207  0.424649 -0.9744 -0.4019  0.0  0.0  0.9750\n",
       "1          10000.0 -0.133883  0.406799 -0.9790 -0.4767  0.0  0.0  0.9607"
      ]
     },
     "execution_count": 291,
     "metadata": {},
     "output_type": "execute_result"
    }
   ],
   "source": [
    "df.groupby('subreddit')['sentiment'].describe()"
   ]
  },
  {
   "cell_type": "code",
   "execution_count": 336,
   "metadata": {},
   "outputs": [
    {
     "data": {
      "image/png": "[encoded data removed]",
      "text/plain": [
       "<Figure size 432x288 with 1 Axes>"
      ]
     },
     "metadata": {
      "needs_background": "light"
     },
     "output_type": "display_data"
    }
   ],
   "source": [
    "df.groupby('subreddit')['sentiment'].plot(kind = 'hist', alpha = 0.7);\n",
    "\n",
    "plt.xlabel('sentiment');\n",
    "plt.title('Distribution by sentiment');\n",
    "plt.legend(['news', 'worldnews']);\n",
    "plt.savefig(\"./assets/sentiment_dist.png\")"
   ]
  },
  {
   "cell_type": "markdown",
   "metadata": {},
   "source": [
    "___"
   ]
  },
  {
   "cell_type": "markdown",
   "metadata": {},
   "source": [
    "Analyzing individual words by class after CountVectorizing.."
   ]
  },
  {
   "cell_type": "code",
   "execution_count": 293,
   "metadata": {},
   "outputs": [],
   "source": [
    "cvec = CountVectorizer(stop_words='english', min_df=5, max_df=1.0)\n",
    "\n",
    "cvec_subreddit_1 = cvec.fit_transform(df[df['subreddit'] == 1]['merged'])\n",
    "\n",
    "top_words = pd.DataFrame(cvec_subreddit_1.toarray(),\n",
    "                          columns=cvec.get_feature_names())\n",
    "\n",
    "top_sorted = top_words.sum().sort_values(ascending = False)[:50]\n",
    "\n",
    "top_sorted.sort_values(ascending = True, inplace = True)"
   ]
  },
  {
   "cell_type": "code",
   "execution_count": 337,
   "metadata": {},
   "outputs": [
    {
     "data": {
      "image/png": "[encoded data removed]",
      "text/plain": [
       "<Figure size 864x864 with 1 Axes>"
      ]
     },
     "metadata": {
      "needs_background": "light"
     },
     "output_type": "display_data"
    }
   ],
   "source": [
    "plt.figure(figsize=(12,12))\n",
    "plt.barh(top_sorted.index,top_sorted.values);\n",
    "plt.title('Top 50 words by count in /r worldnews');\n",
    "plt.savefig(\"./assets/topwords1.png\")"
   ]
  },
  {
   "cell_type": "code",
   "execution_count": 295,
   "metadata": {},
   "outputs": [],
   "source": [
    "cvec_subreddit_2 = cvec.fit_transform(df[df['subreddit'] == 0]['merged'])\n",
    "\n",
    "top_words2 = pd.DataFrame(cvec_subreddit_2.toarray(),\n",
    "                          columns=cvec.get_feature_names())\n",
    "\n",
    "top_sorted2 = top_words2.sum().sort_values(ascending = False)[:50]\n",
    "\n",
    "top_sorted2.sort_values(ascending = True, inplace = True)"
   ]
  },
  {
   "cell_type": "code",
   "execution_count": 338,
   "metadata": {},
   "outputs": [
    {
     "data": {
      "image/png": "[encoded data removed]",
      "text/plain": [
       "<Figure size 864x864 with 1 Axes>"
      ]
     },
     "metadata": {
      "needs_background": "light"
     },
     "output_type": "display_data"
    }
   ],
   "source": [
    "plt.figure(figsize=(12,12))\n",
    "plt.barh(top_sorted2.index,top_sorted2.values);\n",
    "plt.title('Top 50 words by count in /r news');\n",
    "plt.savefig(\"./assets/topwords2.png\")"
   ]
  },
  {
   "cell_type": "markdown",
   "metadata": {},
   "source": [
    "Here I'm taking a look at overlapping words that showed up as top 50 words in both subreddits."
   ]
  },
  {
   "cell_type": "code",
   "execution_count": 297,
   "metadata": {},
   "outputs": [
    {
     "data": {
      "text/plain": [
       "['ing',\n",
       " 'day',\n",
       " 'state',\n",
       " 'killed',\n",
       " 'report',\n",
       " 'confirmed',\n",
       " 'uk',\n",
       " 'people',\n",
       " 'city',\n",
       " 'year',\n",
       " 'death',\n",
       " 'helicopter',\n",
       " 'outbreak',\n",
       " 'world',\n",
       " 'dead',\n",
       " 'bryant',\n",
       " 'chinese',\n",
       " 'kobe',\n",
       " 'crash',\n",
       " 'ha',\n",
       " 'new',\n",
       " 'say',\n",
       " 'case',\n",
       " 'wuhan',\n",
       " 'virus',\n",
       " 'trump',\n",
       " 'china',\n",
       " 'coronavirus']"
      ]
     },
     "execution_count": 297,
     "metadata": {},
     "output_type": "execute_result"
    }
   ],
   "source": [
    "overlap= [n for n in top_sorted.index if n in top_sorted2.index]\n",
    "overlap"
   ]
  },
  {
   "cell_type": "markdown",
   "metadata": {},
   "source": [
    "___"
   ]
  },
  {
   "cell_type": "markdown",
   "metadata": {},
   "source": [
    "## Modeling"
   ]
  },
  {
   "cell_type": "markdown",
   "metadata": {},
   "source": [
    "### Model_1 - Logisitic Regression with Count Vectorizer (text features only)"
   ]
  },
  {
   "cell_type": "markdown",
   "metadata": {},
   "source": [
    "Defining x, y variabes and fitting the data to our model"
   ]
  },
  {
   "cell_type": "code",
   "execution_count": 300,
   "metadata": {},
   "outputs": [],
   "source": [
    "X = df['merged']\n",
    "y = df['subreddit']"
   ]
  },
  {
   "cell_type": "code",
   "execution_count": 301,
   "metadata": {},
   "outputs": [],
   "source": [
    "X_train, X_test, y_train, y_test = train_test_split(X,\n",
    "                                                    y,\n",
    "                                                    stratify=y,\n",
    "                                                    random_state=42)"
   ]
  },
  {
   "cell_type": "markdown",
   "metadata": {},
   "source": [
    "Below we check the basline score to compare our model to. Our basline score is 0.5"
   ]
  },
  {
   "cell_type": "code",
   "execution_count": 302,
   "metadata": {},
   "outputs": [
    {
     "data": {
      "text/plain": [
       "1    0.5\n",
       "0    0.5\n",
       "Name: subreddit, dtype: float64"
      ]
     },
     "execution_count": 302,
     "metadata": {},
     "output_type": "execute_result"
    }
   ],
   "source": [
    "y_test.value_counts(normalize = True)"
   ]
  },
  {
   "cell_type": "markdown",
   "metadata": {},
   "source": [
    "Instantiating a pipeline and grid search paramters to iterate through"
   ]
  },
  {
   "cell_type": "code",
   "execution_count": 303,
   "metadata": {},
   "outputs": [],
   "source": [
    "pipe = Pipeline([('cvec', CountVectorizer()), ('lr', LogisticRegression(solver='liblinear'))])"
   ]
  },
  {
   "cell_type": "code",
   "execution_count": 92,
   "metadata": {},
   "outputs": [],
   "source": [
    "pipe_params = {\n",
    "                'cvec__stop_words':[None, 'english'],\n",
    "                'cvec__max_features':[1000,2000,3000,4000,5000], \n",
    "                'cvec__min_df':[2,3,4,5], \n",
    "                'cvec__max_df':[0.9, 0.95, 0.99], \n",
    "                'cvec__ngram_range':[(1,1), (1,2)]\n",
    "}"
   ]
  },
  {
   "cell_type": "code",
   "execution_count": 93,
   "metadata": {},
   "outputs": [],
   "source": [
    "\n",
    "gs = GridSearchCV(pipe,\n",
    "                  pipe_params,\n",
    "                  cv=5)"
   ]
  },
  {
   "cell_type": "markdown",
   "metadata": {},
   "source": [
    "**Model_1 Evaluation:** . \n",
    "\n",
    "train acurracy = 0.696  \n",
    "test accuracy = 0.7"
   ]
  },
  {
   "cell_type": "code",
   "execution_count": 94,
   "metadata": {},
   "outputs": [
    {
     "name": "stdout",
     "output_type": "stream",
     "text": [
      "0.6962\n",
      "Pipeline(memory=None,\n",
      "         steps=[('cvec',\n",
      "                 CountVectorizer(analyzer='word', binary=False,\n",
      "                                 decode_error='strict',\n",
      "                                 dtype=<class 'numpy.int64'>, encoding='utf-8',\n",
      "                                 input='content', lowercase=True, max_df=0.9,\n",
      "                                 max_features=4000, min_df=3,\n",
      "                                 ngram_range=(1, 1), preprocessor=None,\n",
      "                                 stop_words='english', strip_accents=None,\n",
      "                                 token_pattern='(?u)\\\\b\\\\w\\\\w+\\\\b',\n",
      "                                 tokenizer=None, vocabulary=None)),\n",
      "                ('lr',\n",
      "                 LogisticRegression(C=1.0, class_weight=None, dual=False,\n",
      "                                    fit_intercept=True, intercept_scaling=1,\n",
      "                                    l1_ratio=None, max_iter=100,\n",
      "                                    multi_class='warn', n_jobs=None,\n",
      "                                    penalty='l2', random_state=None,\n",
      "                                    solver='liblinear', tol=0.0001, verbose=0,\n",
      "                                    warm_start=False))],\n",
      "         verbose=False)\n"
     ]
    }
   ],
   "source": [
    "gs.fit(X_train, y_train)\n",
    "print(gs.best_score_)\n",
    "print(gs.best_estimator_)"
   ]
  },
  {
   "cell_type": "code",
   "execution_count": 102,
   "metadata": {},
   "outputs": [],
   "source": [
    "model1 = gs.best_estimator_"
   ]
  },
  {
   "cell_type": "code",
   "execution_count": 103,
   "metadata": {},
   "outputs": [
    {
     "data": {
      "text/plain": [
       "0.7"
      ]
     },
     "execution_count": 103,
     "metadata": {},
     "output_type": "execute_result"
    }
   ],
   "source": [
    "model1.score(X_test, y_test)"
   ]
  },
  {
   "cell_type": "markdown",
   "metadata": {},
   "source": [
    "### Model_2 - Logisitic Regression with Tfidf Vectorizer (text features only)"
   ]
  },
  {
   "cell_type": "code",
   "execution_count": 178,
   "metadata": {},
   "outputs": [],
   "source": [
    "pipe = Pipeline([('tfid', TfidfVectorizer()), ('lr', LogisticRegression(solver='liblinear'))])"
   ]
  },
  {
   "cell_type": "code",
   "execution_count": 184,
   "metadata": {},
   "outputs": [],
   "source": [
    "pipe_params = {\n",
    "                'tfid__stop_words':[None, 'english'],\n",
    "                'tfid__max_features':[1000,2000,3000,4000,5000], \n",
    "                'tfid__min_df':[2,3,4,5,10], \n",
    "                'tfid__max_df':[0.9, 0.95, 0.99], \n",
    "                'tfid__ngram_range':[(1,1), (1,2)]\n",
    "}"
   ]
  },
  {
   "cell_type": "code",
   "execution_count": 180,
   "metadata": {},
   "outputs": [],
   "source": [
    "\n",
    "gs = GridSearchCV(pipe,\n",
    "                  pipe_params,\n",
    "                  cv=5)"
   ]
  },
  {
   "cell_type": "markdown",
   "metadata": {},
   "source": [
    "**Model_2 Evaluation:** . \n",
    "\n",
    "train acurracy = 0.71   \n",
    "test accuracy = 0.7"
   ]
  },
  {
   "cell_type": "code",
   "execution_count": 185,
   "metadata": {},
   "outputs": [
    {
     "name": "stdout",
     "output_type": "stream",
     "text": [
      "0.7114666666666667\n",
      "Pipeline(memory=None,\n",
      "         steps=[('tfid',\n",
      "                 TfidfVectorizer(analyzer='word', binary=False,\n",
      "                                 decode_error='strict',\n",
      "                                 dtype=<class 'numpy.float64'>,\n",
      "                                 encoding='utf-8', input='content',\n",
      "                                 lowercase=True, max_df=0.9, max_features=10000,\n",
      "                                 min_df=3, ngram_range=(1, 2), norm='l2',\n",
      "                                 preprocessor=None, smooth_idf=True,\n",
      "                                 stop_words='english', strip_accents=None,\n",
      "                                 sublinear_tf=False,\n",
      "                                 token_pattern='(?u)\\\\b\\\\w\\\\w+\\\\b',\n",
      "                                 tokenizer=None, use_idf=True,\n",
      "                                 vocabulary=None)),\n",
      "                ('lr',\n",
      "                 LogisticRegression(C=1.0, class_weight=None, dual=False,\n",
      "                                    fit_intercept=True, intercept_scaling=1,\n",
      "                                    l1_ratio=None, max_iter=100,\n",
      "                                    multi_class='warn', n_jobs=None,\n",
      "                                    penalty='l2', random_state=None,\n",
      "                                    solver='liblinear', tol=0.0001, verbose=0,\n",
      "                                    warm_start=False))],\n",
      "         verbose=False)\n"
     ]
    }
   ],
   "source": [
    "gs.fit(X_train, y_train)\n",
    "print(gs.best_score_)\n",
    "print(gs.best_estimator_)"
   ]
  },
  {
   "cell_type": "code",
   "execution_count": 468,
   "metadata": {},
   "outputs": [
    {
     "data": {
      "text/plain": [
       "0.7088"
      ]
     },
     "execution_count": 468,
     "metadata": {},
     "output_type": "execute_result"
    }
   ],
   "source": [
    "gs.score(X_test, y_test)"
   ]
  },
  {
   "cell_type": "markdown",
   "metadata": {},
   "source": [
    "___"
   ]
  },
  {
   "cell_type": "markdown",
   "metadata": {},
   "source": [
    "### Model_3 - Logisitic Regression with Tfidf Vectorizer on text features, standard scaler on numeric features."
   ]
  },
  {
   "cell_type": "code",
   "execution_count": 325,
   "metadata": {},
   "outputs": [],
   "source": [
    "get_text_data = FunctionTransformer(lambda x: x['merged'], validate = False)\n",
    "get_numeric_data = FunctionTransformer(lambda x: x[['word_count', 'sentiment']], validate = False)"
   ]
  },
  {
   "cell_type": "code",
   "execution_count": 459,
   "metadata": {},
   "outputs": [],
   "source": [
    "X = df.drop('subreddit', axis = 1)\n",
    "y = df['subreddit']"
   ]
  },
  {
   "cell_type": "code",
   "execution_count": 460,
   "metadata": {},
   "outputs": [],
   "source": [
    "X_train, X_test, y_train, y_test = train_test_split(X,\n",
    "                                                    y,\n",
    "                                                    stratify=y,\n",
    "                                                    random_state=42)"
   ]
  },
  {
   "cell_type": "code",
   "execution_count": 461,
   "metadata": {},
   "outputs": [],
   "source": [
    "pipe_params = {\n",
    "                 'features__text_features__tfid__stop_words':[None, 'english'],\n",
    "                 'features__text_features__tfid__max_features':[1000,2000,3000,4000,5000], \n",
    "                 'features__text_features__tfid__min_df':[2,3,4,5,10], \n",
    "                 'features__text_features__tfid__max_df':[0.9, 0.95, 0.99], \n",
    "                 'features__text_features__tfid__ngram_range':[(1,1), (1,2)],\n",
    "                'lr__penalty' : ['l1', 'l2']\n",
    "}"
   ]
  },
  {
   "cell_type": "code",
   "execution_count": 462,
   "metadata": {},
   "outputs": [],
   "source": [
    "pipe2 = Pipeline([\n",
    "    ('features', FeatureUnion([\n",
    "            ('numeric_features', Pipeline([\n",
    "                ('selector', get_numeric_data),\n",
    "                ('ss', StandardScaler())\n",
    "            ])),\n",
    "            ('text_features', Pipeline([\n",
    "                ('selector', get_text_data),\n",
    "                ('tfid', TfidfVectorizer())\n",
    "            ]))\n",
    "    ])),\n",
    "    ('lr', LogisticRegression())\n",
    "])"
   ]
  },
  {
   "cell_type": "code",
   "execution_count": 463,
   "metadata": {},
   "outputs": [],
   "source": [
    "import warnings\n",
    "warnings.filterwarnings('ignore')"
   ]
  },
  {
   "cell_type": "code",
   "execution_count": 464,
   "metadata": {},
   "outputs": [
    {
     "data": {
      "text/plain": [
       "0.7876"
      ]
     },
     "execution_count": 464,
     "metadata": {},
     "output_type": "execute_result"
    }
   ],
   "source": [
    "gs = GridSearchCV(pipe2, pipe_params, cv=5)\n",
    "gs.fit(X_train, y_train)\n",
    "gs.score(X_train, y_train)"
   ]
  },
  {
   "cell_type": "code",
   "execution_count": 472,
   "metadata": {},
   "outputs": [
    {
     "data": {
      "text/plain": [
       "0.7088"
      ]
     },
     "execution_count": 472,
     "metadata": {},
     "output_type": "execute_result"
    }
   ],
   "source": [
    "gs.best_estimator_.score(X_test, y_test)"
   ]
  },
  {
   "cell_type": "code",
   "execution_count": 478,
   "metadata": {},
   "outputs": [
    {
     "data": {
      "text/plain": [
       "{'features__text_features__tfid__max_df': 0.9,\n",
       " 'features__text_features__tfid__max_features': 5000,\n",
       " 'features__text_features__tfid__min_df': 4,\n",
       " 'features__text_features__tfid__ngram_range': (1, 2),\n",
       " 'features__text_features__tfid__stop_words': 'english',\n",
       " 'lr__penalty': 'l2'}"
      ]
     },
     "execution_count": 478,
     "metadata": {},
     "output_type": "execute_result"
    }
   ],
   "source": [
    "gs.best_params_"
   ]
  },
  {
   "cell_type": "code",
   "execution_count": null,
   "metadata": {},
   "outputs": [],
   "source": []
  },
  {
   "cell_type": "markdown",
   "metadata": {},
   "source": [
    "**Model_3 Evaluation:** . \n",
    "\n",
    "train acurracy = 0.79   \n",
    "test accuracy = 0.71"
   ]
  },
  {
   "cell_type": "markdown",
   "metadata": {},
   "source": [
    "### Further Evaluations\n",
    "***Model 3 has been the highest performing model. Lets do further evaluation of that model to dive deeper.***"
   ]
  },
  {
   "cell_type": "code",
   "execution_count": 470,
   "metadata": {},
   "outputs": [],
   "source": [
    "coefficients = gs.best_estimator_.named_steps['lr'].coef_[0]"
   ]
  },
  {
   "cell_type": "code",
   "execution_count": 469,
   "metadata": {},
   "outputs": [],
   "source": [
    "#text features\n",
    "text_features = gs.best_estimator_.named_steps['features'].transformer_list[1][1].named_steps['tfid'].get_feature_names()\n",
    "numeric_features = ['word_count', 'sentiment_score']\n",
    "\n",
    "features = numeric_features + text_features"
   ]
  },
  {
   "cell_type": "markdown",
   "metadata": {},
   "source": [
    "Below is dataframe created to store our coefficent weights, and exponanted coefficients for interpreation"
   ]
  },
  {
   "cell_type": "code",
   "execution_count": 424,
   "metadata": {},
   "outputs": [
    {
     "data": {
      "text/html": [
       "<div>\n",
       "<style scoped>\n",
       "    .dataframe tbody tr th:only-of-type {\n",
       "        vertical-align: middle;\n",
       "    }\n",
       "\n",
       "    .dataframe tbody tr th {\n",
       "        vertical-align: top;\n",
       "    }\n",
       "\n",
       "    .dataframe thead th {\n",
       "        text-align: right;\n",
       "    }\n",
       "</style>\n",
       "<table border=\"1\" class=\"dataframe\">\n",
       "  <thead>\n",
       "    <tr style=\"text-align: right;\">\n",
       "      <th></th>\n",
       "      <th>features</th>\n",
       "      <th>coef</th>\n",
       "      <th>exp_coef</th>\n",
       "    </tr>\n",
       "  </thead>\n",
       "  <tbody>\n",
       "    <tr>\n",
       "      <th>0</th>\n",
       "      <td>word_count</td>\n",
       "      <td>0.249768</td>\n",
       "      <td>1.283728</td>\n",
       "    </tr>\n",
       "    <tr>\n",
       "      <th>1</th>\n",
       "      <td>sentiment_score</td>\n",
       "      <td>-0.096410</td>\n",
       "      <td>0.908092</td>\n",
       "    </tr>\n",
       "    <tr>\n",
       "      <th>2</th>\n",
       "      <td>abandon</td>\n",
       "      <td>0.029945</td>\n",
       "      <td>1.030397</td>\n",
       "    </tr>\n",
       "    <tr>\n",
       "      <th>3</th>\n",
       "      <td>abc</td>\n",
       "      <td>-0.143757</td>\n",
       "      <td>0.866098</td>\n",
       "    </tr>\n",
       "    <tr>\n",
       "      <th>4</th>\n",
       "      <td>abducted</td>\n",
       "      <td>0.263523</td>\n",
       "      <td>1.301507</td>\n",
       "    </tr>\n",
       "  </tbody>\n",
       "</table>\n",
       "</div>"
      ],
      "text/plain": [
       "          features      coef  exp_coef\n",
       "0       word_count  0.249768  1.283728\n",
       "1  sentiment_score -0.096410  0.908092\n",
       "2          abandon  0.029945  1.030397\n",
       "3              abc -0.143757  0.866098\n",
       "4         abducted  0.263523  1.301507"
      ]
     },
     "execution_count": 424,
     "metadata": {},
     "output_type": "execute_result"
    }
   ],
   "source": [
    "coef_df = pd.DataFrame({  \n",
    "                        'features' : features, \n",
    "                        'coef' : coefficients,\n",
    "                        'exp_coef': [np.exp(coef) for coef in coefficients]\n",
    "\n",
    "})\n",
    "\n",
    "coef_df.head()\n",
    "\n",
    "#coef_df.sort_values('exp_coef', ascending = True)"
   ]
  },
  {
   "cell_type": "markdown",
   "metadata": {},
   "source": [
    "Looking at the top 20 coefficients affecting our model.  \n",
    "\n",
    "e.g. the for each occurance of the word 'climate', our subreddit is 15.5 times more likely to be from world news!"
   ]
  },
  {
   "cell_type": "code",
   "execution_count": 425,
   "metadata": {},
   "outputs": [
    {
     "data": {
      "text/html": [
       "<div>\n",
       "<style scoped>\n",
       "    .dataframe tbody tr th:only-of-type {\n",
       "        vertical-align: middle;\n",
       "    }\n",
       "\n",
       "    .dataframe tbody tr th {\n",
       "        vertical-align: top;\n",
       "    }\n",
       "\n",
       "    .dataframe thead th {\n",
       "        text-align: right;\n",
       "    }\n",
       "</style>\n",
       "<table border=\"1\" class=\"dataframe\">\n",
       "  <thead>\n",
       "    <tr style=\"text-align: right;\">\n",
       "      <th></th>\n",
       "      <th>features</th>\n",
       "      <th>coef</th>\n",
       "      <th>exp_coef</th>\n",
       "    </tr>\n",
       "  </thead>\n",
       "  <tbody>\n",
       "    <tr>\n",
       "      <th>813</th>\n",
       "      <td>climate</td>\n",
       "      <td>2.743305</td>\n",
       "      <td>15.538247</td>\n",
       "    </tr>\n",
       "    <tr>\n",
       "      <th>713</th>\n",
       "      <td>china</td>\n",
       "      <td>2.394255</td>\n",
       "      <td>10.960027</td>\n",
       "    </tr>\n",
       "    <tr>\n",
       "      <th>2275</th>\n",
       "      <td>japan</td>\n",
       "      <td>2.380665</td>\n",
       "      <td>10.812088</td>\n",
       "    </tr>\n",
       "    <tr>\n",
       "      <th>4521</th>\n",
       "      <td>totestravel</td>\n",
       "      <td>2.359633</td>\n",
       "      <td>10.587065</td>\n",
       "    </tr>\n",
       "    <tr>\n",
       "      <th>1785</th>\n",
       "      <td>germany</td>\n",
       "      <td>2.257782</td>\n",
       "      <td>9.561857</td>\n",
       "    </tr>\n",
       "    <tr>\n",
       "      <th>2246</th>\n",
       "      <td>israeli</td>\n",
       "      <td>2.181294</td>\n",
       "      <td>8.857760</td>\n",
       "    </tr>\n",
       "    <tr>\n",
       "      <th>3828</th>\n",
       "      <td>saudi</td>\n",
       "      <td>2.180146</td>\n",
       "      <td>8.847602</td>\n",
       "    </tr>\n",
       "    <tr>\n",
       "      <th>1071</th>\n",
       "      <td>dai</td>\n",
       "      <td>2.178254</td>\n",
       "      <td>8.830873</td>\n",
       "    </tr>\n",
       "    <tr>\n",
       "      <th>4724</th>\n",
       "      <td>usa</td>\n",
       "      <td>2.152831</td>\n",
       "      <td>8.609192</td>\n",
       "    </tr>\n",
       "    <tr>\n",
       "      <th>472</th>\n",
       "      <td>brazil</td>\n",
       "      <td>2.087974</td>\n",
       "      <td>8.068550</td>\n",
       "    </tr>\n",
       "    <tr>\n",
       "      <th>4341</th>\n",
       "      <td>tai</td>\n",
       "      <td>2.036501</td>\n",
       "      <td>7.663750</td>\n",
       "    </tr>\n",
       "    <tr>\n",
       "      <th>82</th>\n",
       "      <td>africa</td>\n",
       "      <td>2.022174</td>\n",
       "      <td>7.554734</td>\n",
       "    </tr>\n",
       "    <tr>\n",
       "      <th>926</th>\n",
       "      <td>coronavirus</td>\n",
       "      <td>1.994772</td>\n",
       "      <td>7.350530</td>\n",
       "    </tr>\n",
       "    <tr>\n",
       "      <th>2244</th>\n",
       "      <td>israel</td>\n",
       "      <td>1.953418</td>\n",
       "      <td>7.052750</td>\n",
       "    </tr>\n",
       "    <tr>\n",
       "      <th>2216</th>\n",
       "      <td>iran</td>\n",
       "      <td>1.952143</td>\n",
       "      <td>7.043766</td>\n",
       "    </tr>\n",
       "    <tr>\n",
       "      <th>2313</th>\n",
       "      <td>journalist</td>\n",
       "      <td>1.951567</td>\n",
       "      <td>7.039711</td>\n",
       "    </tr>\n",
       "    <tr>\n",
       "      <th>1157</th>\n",
       "      <td>del</td>\n",
       "      <td>1.897639</td>\n",
       "      <td>6.670131</td>\n",
       "    </tr>\n",
       "    <tr>\n",
       "      <th>4647</th>\n",
       "      <td>turkey</td>\n",
       "      <td>1.870926</td>\n",
       "      <td>6.494305</td>\n",
       "    </tr>\n",
       "    <tr>\n",
       "      <th>2910</th>\n",
       "      <td>netanyahu</td>\n",
       "      <td>1.800406</td>\n",
       "      <td>6.052102</td>\n",
       "    </tr>\n",
       "    <tr>\n",
       "      <th>2448</th>\n",
       "      <td>leader</td>\n",
       "      <td>1.777861</td>\n",
       "      <td>5.917187</td>\n",
       "    </tr>\n",
       "  </tbody>\n",
       "</table>\n",
       "</div>"
      ],
      "text/plain": [
       "         features      coef   exp_coef\n",
       "813       climate  2.743305  15.538247\n",
       "713         china  2.394255  10.960027\n",
       "2275        japan  2.380665  10.812088\n",
       "4521  totestravel  2.359633  10.587065\n",
       "1785      germany  2.257782   9.561857\n",
       "2246      israeli  2.181294   8.857760\n",
       "3828        saudi  2.180146   8.847602\n",
       "1071          dai  2.178254   8.830873\n",
       "4724          usa  2.152831   8.609192\n",
       "472        brazil  2.087974   8.068550\n",
       "4341          tai  2.036501   7.663750\n",
       "82         africa  2.022174   7.554734\n",
       "926   coronavirus  1.994772   7.350530\n",
       "2244       israel  1.953418   7.052750\n",
       "2216         iran  1.952143   7.043766\n",
       "2313   journalist  1.951567   7.039711\n",
       "1157          del  1.897639   6.670131\n",
       "4647       turkey  1.870926   6.494305\n",
       "2910    netanyahu  1.800406   6.052102\n",
       "2448       leader  1.777861   5.917187"
      ]
     },
     "execution_count": 425,
     "metadata": {},
     "output_type": "execute_result"
    }
   ],
   "source": [
    "coef_df = coef_df.sort_values('exp_coef', ascending = False)\n",
    "coef_df.head(20)\n"
   ]
  },
  {
   "cell_type": "markdown",
   "metadata": {},
   "source": [
    "***Our Model has a lot of features. Organizing visualizations to determine the most impactful coefficients and features***"
   ]
  },
  {
   "cell_type": "code",
   "execution_count": 426,
   "metadata": {},
   "outputs": [],
   "source": [
    "coef_df = coef_df.set_index('features')"
   ]
  },
  {
   "cell_type": "code",
   "execution_count": 437,
   "metadata": {},
   "outputs": [
    {
     "data": {
      "image/png": "[encoded data removed]",
      "text/plain": [
       "<Figure size 1152x720 with 1 Axes>"
      ]
     },
     "metadata": {
      "needs_background": "light"
     },
     "output_type": "display_data"
    }
   ],
   "source": [
    "weights = coef_df['exp_coef'].head(10).sort_values()\n",
    "labels = weights.index\n",
    "\n",
    "plt.figure(figsize=(16,10))\n",
    "plt.barh(labels, weights, color = 'blue')\n",
    "plt.yticks(fontsize=20)\n",
    "plt.xticks(fontsize=20)\n",
    "plt.xlabel('Exp Coef', fontsize=30)\n",
    "plt.title(f'Top 10 Features - worldnews', fontsize=42)\n",
    "plt.tight_layout()\n",
    "plt.savefig(\"./pics/top_features1.png\")"
   ]
  },
  {
   "cell_type": "code",
   "execution_count": 475,
   "metadata": {},
   "outputs": [
    {
     "data": {
      "image/png": "[encoded data removed]",
      "text/plain": [
       "<Figure size 1152x720 with 1 Axes>"
      ]
     },
     "metadata": {
      "needs_background": "light"
     },
     "output_type": "display_data"
    }
   ],
   "source": [
    "weights = coef_df['exp_coef'].tail(10).sort_values()\n",
    "labels = weights.index\n",
    "\n",
    "plt.figure(figsize=(16,10))\n",
    "plt.barh(labels, weights, color = 'blue')\n",
    "plt.yticks(fontsize=20)\n",
    "plt.xticks(fontsize=20)\n",
    "plt.xlabel('Exp Coef', fontsize=30)\n",
    "plt.title(f'Top 10 Features - News', fontsize=42)\n",
    "plt.tight_layout()\n",
    "plt.savefig(\"./pics/top_features2.png\")"
   ]
  },
  {
   "cell_type": "code",
   "execution_count": 458,
   "metadata": {},
   "outputs": [],
   "source": [
    "from sklearn.metrics import confusion_matrix, accuracy_score, classification_report\n",
    "\n",
    "def nice_conmat(y_test, preds, classes):\n",
    "\n",
    "    conmat = confusion_matrix(y_test, preds)\n",
    "    #print(f'Accuracy Score: {accuracy_score(y_test, preds)}')\n",
    "    return pd.DataFrame(conmat, columns=['Predicted ' +class_ for class_ in classes], \\\n",
    "                index=['Actual '+ class_ for class_ in classes])"
   ]
  },
  {
   "cell_type": "markdown",
   "metadata": {},
   "source": [
    "**Visualizing a confusion matrix to see our predictions results vs actual results**"
   ]
  },
  {
   "cell_type": "code",
   "execution_count": 434,
   "metadata": {},
   "outputs": [
    {
     "data": {
      "text/html": [
       "<div>\n",
       "<style scoped>\n",
       "    .dataframe tbody tr th:only-of-type {\n",
       "        vertical-align: middle;\n",
       "    }\n",
       "\n",
       "    .dataframe tbody tr th {\n",
       "        vertical-align: top;\n",
       "    }\n",
       "\n",
       "    .dataframe thead th {\n",
       "        text-align: right;\n",
       "    }\n",
       "</style>\n",
       "<table border=\"1\" class=\"dataframe\">\n",
       "  <thead>\n",
       "    <tr style=\"text-align: right;\">\n",
       "      <th></th>\n",
       "      <th>Predicted news</th>\n",
       "      <th>Predicted world_news</th>\n",
       "    </tr>\n",
       "  </thead>\n",
       "  <tbody>\n",
       "    <tr>\n",
       "      <th>Actual news</th>\n",
       "      <td>1783</td>\n",
       "      <td>717</td>\n",
       "    </tr>\n",
       "    <tr>\n",
       "      <th>Actual world_news</th>\n",
       "      <td>739</td>\n",
       "      <td>1761</td>\n",
       "    </tr>\n",
       "  </tbody>\n",
       "</table>\n",
       "</div>"
      ],
      "text/plain": [
       "                   Predicted news  Predicted world_news\n",
       "Actual news                  1783                   717\n",
       "Actual world_news             739                  1761"
      ]
     },
     "execution_count": 434,
     "metadata": {},
     "output_type": "execute_result"
    }
   ],
   "source": [
    "# build a function to print out a nice confusion matrix\n",
    "preds = gs.best_estimator_.predict(X_test)\n",
    "\n",
    "nice_conmat(y_test, preds, ['news', 'world_news'])"
   ]
  },
  {
   "cell_type": "markdown",
   "metadata": {},
   "source": [
    "___"
   ]
  },
  {
   "cell_type": "markdown",
   "metadata": {},
   "source": [
    "### Model_4 RandomForest with Tfidf Vectorizer on text features and standard scaler on numeric features"
   ]
  },
  {
   "cell_type": "code",
   "execution_count": 453,
   "metadata": {},
   "outputs": [],
   "source": [
    "pipe_params2 = {\n",
    "                'features__text_features__tfid__stop_words':['english'],\n",
    "                'features__text_features__tfid__max_features':[10000], \n",
    "                'features__text_features__tfid__min_df':[5], \n",
    "                'features__text_features__tfid__max_df':[0.90], \n",
    "                'features__text_features__tfid__ngram_range':[(1,1), (1,2)],\n",
    "                'rf__n_estimators':[125],\n",
    "                'rf__max_depth': [4, 6],\n",
    "                'rf__max_features': ['auto']\n",
    "    \n",
    "}"
   ]
  },
  {
   "cell_type": "code",
   "execution_count": 454,
   "metadata": {},
   "outputs": [],
   "source": [
    "pipe3 = Pipeline([\n",
    "    ('features', FeatureUnion([\n",
    "            ('numeric_features', Pipeline([\n",
    "                ('selector', get_numeric_data),\n",
    "                ('ss', StandardScaler())\n",
    "            ])),\n",
    "            ('text_features', Pipeline([\n",
    "                ('selector', get_text_data),\n",
    "                ('tfid', TfidfVectorizer())\n",
    "            ]))\n",
    "    ])),\n",
    "    ('rf', RandomForestClassifier())\n",
    "])"
   ]
  },
  {
   "cell_type": "code",
   "execution_count": 456,
   "metadata": {},
   "outputs": [
    {
     "data": {
      "text/plain": [
       "GridSearchCV(cv=5, error_score='raise-deprecating',\n",
       "             estimator=Pipeline(memory=None,\n",
       "                                steps=[('features',\n",
       "                                        FeatureUnion(n_jobs=None,\n",
       "                                                     transformer_list=[('numeric_features',\n",
       "                                                                        Pipeline(memory=None,\n",
       "                                                                                 steps=[('selector',\n",
       "                                                                                         FunctionTransformer(accept_sparse=False,\n",
       "                                                                                                             check_inverse=True,\n",
       "                                                                                                             func=<function <lambda> at 0x1a731f1c20>,\n",
       "                                                                                                             inv_kw_args=None,\n",
       "                                                                                                             inverse_func=None,\n",
       "                                                                                                             kw_args=None,\n",
       "                                                                                                             pa...\n",
       "                         'features__text_features__tfid__max_features': [10000],\n",
       "                         'features__text_features__tfid__min_df': [5],\n",
       "                         'features__text_features__tfid__ngram_range': [(1, 1),\n",
       "                                                                        (1, 2)],\n",
       "                         'features__text_features__tfid__stop_words': ['english'],\n",
       "                         'rf__max_depth': [4, 6], 'rf__max_features': ['auto'],\n",
       "                         'rf__n_estimators': [125]},\n",
       "             pre_dispatch='2*n_jobs', refit=True, return_train_score=False,\n",
       "             scoring=None, verbose=0)"
      ]
     },
     "execution_count": 456,
     "metadata": {},
     "output_type": "execute_result"
    }
   ],
   "source": [
    "gs2 = GridSearchCV(pipe3, pipe_params2, cv=5)\n",
    "gs2.fit(X_train, y_train)\n"
   ]
  },
  {
   "cell_type": "markdown",
   "metadata": {},
   "source": [
    "**Model_4 Evaluation:** . \n",
    "\n",
    "train acurracy = 0.67   \n",
    "test accuracy = 0.66"
   ]
  },
  {
   "cell_type": "code",
   "execution_count": 457,
   "metadata": {},
   "outputs": [
    {
     "name": "stdout",
     "output_type": "stream",
     "text": [
      "0.6726\n",
      "Pipeline(memory=None,\n",
      "         steps=[('features',\n",
      "                 FeatureUnion(n_jobs=None,\n",
      "                              transformer_list=[('numeric_features',\n",
      "                                                 Pipeline(memory=None,\n",
      "                                                          steps=[('selector',\n",
      "                                                                  FunctionTransformer(accept_sparse=False,\n",
      "                                                                                      check_inverse=True,\n",
      "                                                                                      func=<function <lambda> at 0x1a731f1c20>,\n",
      "                                                                                      inv_kw_args=None,\n",
      "                                                                                      inverse_func=None,\n",
      "                                                                                      kw_args=None,\n",
      "                                                                                      pass_y='deprecated',\n",
      "                                                                                      validate=False)),\n",
      "                                                                 ('ss',\n",
      "                                                                  StandardScaler(copy...\n",
      "                 RandomForestClassifier(bootstrap=True, class_weight=None,\n",
      "                                        criterion='gini', max_depth=4,\n",
      "                                        max_features='auto',\n",
      "                                        max_leaf_nodes=None,\n",
      "                                        min_impurity_decrease=0.0,\n",
      "                                        min_impurity_split=None,\n",
      "                                        min_samples_leaf=1, min_samples_split=2,\n",
      "                                        min_weight_fraction_leaf=0.0,\n",
      "                                        n_estimators=125, n_jobs=None,\n",
      "                                        oob_score=False, random_state=None,\n",
      "                                        verbose=0, warm_start=False))],\n",
      "         verbose=False)\n"
     ]
    }
   ],
   "source": [
    "print(gs2.score(X_train, y_train))\n",
    "print(gs2.best_estimator_)"
   ]
  },
  {
   "cell_type": "code",
   "execution_count": 473,
   "metadata": {},
   "outputs": [
    {
     "data": {
      "text/plain": [
       "0.6618"
      ]
     },
     "execution_count": 473,
     "metadata": {},
     "output_type": "execute_result"
    }
   ],
   "source": [
    "gs2.score(X_test, y_test)"
   ]
  }
 ],
 "metadata": {
  "kernelspec": {
   "display_name": "Python 3",
   "language": "python",
   "name": "python3"
  },
  "language_info": {
   "codemirror_mode": {
    "name": "ipython",
    "version": 3
   },
   "file_extension": ".py",
   "mimetype": "text/x-python",
   "name": "python",
   "nbconvert_exporter": "python",
   "pygments_lexer": "ipython3",
   "version": "3.7.4"
  }
 },
 "nbformat": 4,
 "nbformat_minor": 4
}
